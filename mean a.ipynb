{
 "cells": [
  {
   "cell_type": "code",
   "execution_count": 1,
   "id": "6766e59f",
   "metadata": {},
   "outputs": [
    {
     "name": "stdout",
     "output_type": "stream",
     "text": [
      "121.33636363636364\n",
      "Mode: [122.3]\n",
      "[0.0, 0.14462416745956222, 0.18839200761179828, 0.1950523311132255, 0.23691722169362506, 0.24643196955280677, 0.2863939105613701, 0.3035204567078972, 0.3035204567078972, 0.3330161750713606, 1.0]\n",
      "[-1.2247173218228256, -0.6229755169189863, -0.44086944438229775, -0.4131576507354103, -0.23896923352640445, -0.19938095688799395, -0.033110195006669736, 0.03814870294246905, 0.03814870294246905, 0.1608723605215419, 2.9360105528741176]\n"
     ]
    }
   ],
   "source": [
    "import math\n",
    "arr=[115.3, 195.5, 120.5, 110.2, 90.4, 105.6, 110.9, 116.3, 122.3, 125.4,122.3]\n",
    "def mean(arr):\n",
    "    mean=sum(arr)/len(arr)\n",
    "    print(mean)\n",
    "mean(arr)\n",
    "def median(arr):\n",
    "    arr.sort()\n",
    "    if len(arr) % 2 == 1:\n",
    "        return arr[len(arr) // 2]\n",
    "    else:\n",
    "        return (arr[len(arr) // 2 - 1] + arr[len(arr) // 2]) / 2\n",
    "median(arr)\n",
    "from collections import Counter\n",
    "def mode(arr):\n",
    "    counts = Counter(arr)\n",
    "    max_count = max(counts.values())\n",
    "    modes = [key for key, value in counts.items() if value == max_count]\n",
    "    return(modes)\n",
    "result = mode(arr)\n",
    "print(\"Mode:\", result)\n",
    "def sd(arr):\n",
    "    n = len(arr)\n",
    "    mean = sum(arr) / n\n",
    "    squared_diff = sum((x - mean) ** 2 for x in arr)\n",
    "    variance = squared_diff / n\n",
    "    std_deviation = math.sqrt(variance)\n",
    "\n",
    "    return std_deviation\n",
    "sd(arr)\n",
    "def normalization(arr):\n",
    "    max_arr=max(arr)\n",
    "    min_arr=min(arr)\n",
    "    normal=[]\n",
    "    for x in arr:\n",
    "        calc=(x-min_arr)/(max_arr-min_arr)\n",
    "        normal.append(calc)\n",
    "    print (normal)\n",
    "normalization(arr)\n",
    "def standardization(arr):\n",
    "    length=len(arr)\n",
    "    mean=sum(arr)/length\n",
    "    k=sd(arr)\n",
    "    standard=[]\n",
    "    for x in arr:\n",
    "        calc=(x-mean)/k\n",
    "        standard.append(calc)\n",
    "    print (standard)\n",
    "standardization(arr)\n"
   ]
  },
  {
   "cell_type": "code",
   "execution_count": null,
   "id": "ef56c15f",
   "metadata": {},
   "outputs": [],
   "source": []
  }
 ],
 "metadata": {
  "kernelspec": {
   "display_name": "Python 3 (ipykernel)",
   "language": "python",
   "name": "python3"
  },
  "language_info": {
   "codemirror_mode": {
    "name": "ipython",
    "version": 3
   },
   "file_extension": ".py",
   "mimetype": "text/x-python",
   "name": "python",
   "nbconvert_exporter": "python",
   "pygments_lexer": "ipython3",
   "version": "3.10.9"
  }
 },
 "nbformat": 4,
 "nbformat_minor": 5
}
