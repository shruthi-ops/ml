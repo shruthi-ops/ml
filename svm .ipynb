{
 "cells": [
  {
   "cell_type": "code",
   "execution_count": 1,
   "id": "503c5eb1",
   "metadata": {},
   "outputs": [
    {
     "name": "stdout",
     "output_type": "stream",
     "text": [
      "SVM with Linear Kernel Accuracy: 1.0\n",
      "SVM with Polynomial Kernel Accuracy: 0.9534883720930233\n",
      "SVM with RBF Kernel Accuracy: 0.7674418604651163\n",
      "SVM with sigmoid Kernel Accuracy: 0.5348837209302325\n"
     ]
    }
   ],
   "source": [
    "import pandas as pd\n",
    "import numpy as np\n",
    "import matplotlib.pyplot as plt\n",
    "df = pd.read_csv('glass(For SVM Program).csv')\n",
    "df.head()\n",
    "df.drop('Id' , axis=1)\n",
    "X = df.iloc[:,:-1]\n",
    "y = df.iloc[:,-1]\n",
    "from sklearn.model_selection import train_test_split\n",
    "from sklearn.svm import SVC\n",
    "from sklearn.metrics import accuracy_score\n",
    "X_train, X_test, y_train, y_test = train_test_split(X, y, test_size=0.2, random_state=42)\n",
    "svm_linear = SVC(kernel='linear')\n",
    "svm_linear.fit(X_train, y_train)\n",
    "svm_linear_predictions = svm_linear.predict(X_test)\n",
    "accuracy_linear = accuracy_score(y_test, svm_linear_predictions)\n",
    "# SVM with Polynomial Kernel\n",
    "svm_poly = SVC(kernel='poly', degree=3)  # You can adjust the degree as needed\n",
    "svm_poly.fit(X_train, y_train)\n",
    "svm_poly_predictions = svm_poly.predict(X_test)\n",
    "accuracy_poly = accuracy_score(y_test, svm_poly_predictions)\n",
    "# SVM with Radial Basis Function (RBF) Kernel\n",
    "svm_rbf = SVC(kernel='rbf')\n",
    "svm_rbf.fit(X_train, y_train)\n",
    "svm_rbf_predictions = svm_rbf.predict(X_test)\n",
    "accuracy_rbf = accuracy_score(y_test, svm_rbf_predictions)\n",
    "# SVM with sigmoid Kernel\n",
    "svm_sig = SVC(kernel='sigmoid')\n",
    "svm_sig.fit(X_train, y_train)\n",
    "svm_sig_predictions = svm_sig.predict(X_test)\n",
    "accuracy_sig = accuracy_score(y_test, svm_sig_predictions)\n",
    "print(\"SVM with Linear Kernel Accuracy:\", accuracy_linear)\n",
    "print(\"SVM with Polynomial Kernel Accuracy:\", accuracy_poly)\n",
    "print(\"SVM with RBF Kernel Accuracy:\", accuracy_rbf)\n",
    "print(\"SVM with sigmoid Kernel Accuracy:\", accuracy_sig)\n"
   ]
  },
  {
   "cell_type": "code",
   "execution_count": null,
   "id": "4380b5c0",
   "metadata": {},
   "outputs": [],
   "source": []
  }
 ],
 "metadata": {
  "kernelspec": {
   "display_name": "Python 3 (ipykernel)",
   "language": "python",
   "name": "python3"
  },
  "language_info": {
   "codemirror_mode": {
    "name": "ipython",
    "version": 3
   },
   "file_extension": ".py",
   "mimetype": "text/x-python",
   "name": "python",
   "nbconvert_exporter": "python",
   "pygments_lexer": "ipython3",
   "version": "3.10.9"
  }
 },
 "nbformat": 4,
 "nbformat_minor": 5
}
